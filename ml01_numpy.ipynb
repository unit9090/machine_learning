{
  "nbformat": 4,
  "nbformat_minor": 0,
  "metadata": {
    "colab": {
      "provenance": [],
      "authorship_tag": "ABX9TyPknvQCU7WpYomgVpa4hhwe",
      "include_colab_link": true
    },
    "kernelspec": {
      "name": "python3",
      "display_name": "Python 3"
    },
    "language_info": {
      "name": "python"
    }
  },
  "cells": [
    {
      "cell_type": "markdown",
      "metadata": {
        "id": "view-in-github",
        "colab_type": "text"
      },
      "source": [
        "<a href=\"https://colab.research.google.com/github/unit9090/machine_learning/blob/main/ml01_numpy.ipynb\" target=\"_parent\"><img src=\"https://colab.research.google.com/assets/colab-badge.svg\" alt=\"Open In Colab\"/></a>"
      ]
    },
    {
      "cell_type": "code",
      "execution_count": 1,
      "metadata": {
        "id": "8DVN0NR3czAB"
      },
      "outputs": [],
      "source": [
        "import numpy as np"
      ]
    },
    {
      "cell_type": "markdown",
      "source": [
        "# `np.ndarray` 클래스의 속성(property)"
      ],
      "metadata": {
        "id": "fsrLGLQPdI53"
      }
    },
    {
      "cell_type": "code",
      "source": [
        "# int를 넘기거나 int 배열을 넘김\n",
        "arr = np.ones(shape = (2, 3))   # 모든 원소가 1인 (2, 3) 모양의 배열을 만들어 줌."
      ],
      "metadata": {
        "id": "A1jtbsaTdNG3"
      },
      "execution_count": 5,
      "outputs": []
    },
    {
      "cell_type": "code",
      "source": [
        "print(arr)  # 1. == 1.0(실수 타입)"
      ],
      "metadata": {
        "colab": {
          "base_uri": "https://localhost:8080/"
        },
        "id": "wowBVgsldnfI",
        "outputId": "4b01a8f1-24d0-4377-cf73-79cd848b41ef"
      },
      "execution_count": 3,
      "outputs": [
        {
          "output_type": "stream",
          "name": "stdout",
          "text": [
            "[[1. 1. 1.]\n",
            " [1. 1. 1.]]\n"
          ]
        }
      ]
    },
    {
      "cell_type": "code",
      "source": [
        "# numpy 배열은 여러 데이터 타입을 저장할 수 없다.\n",
        "# 즉, 한가지 타입의 배열만 저장 가능.\n",
        "arr.dtype   # 배열 원소의 데이터 타입"
      ],
      "metadata": {
        "colab": {
          "base_uri": "https://localhost:8080/"
        },
        "id": "4V8r986dd_2H",
        "outputId": "d38e4771-9fbe-4667-f48f-041279063862"
      },
      "execution_count": 7,
      "outputs": [
        {
          "output_type": "execute_result",
          "data": {
            "text/plain": [
              "dtype('float64')"
            ]
          },
          "metadata": {},
          "execution_count": 7
        }
      ]
    },
    {
      "cell_type": "code",
      "source": [
        "arr.shape       # 배열의 모양: 배열의 각 축(axis)를 따라서 있는 원소의 개수. (행의 개수, 열의 개수)"
      ],
      "metadata": {
        "colab": {
          "base_uri": "https://localhost:8080/"
        },
        "id": "TwwXwFejee_c",
        "outputId": "1320a484-b4ba-4196-c240-50edfbba74ae"
      },
      "execution_count": 8,
      "outputs": [
        {
          "output_type": "execute_result",
          "data": {
            "text/plain": [
              "(2, 3)"
            ]
          },
          "metadata": {},
          "execution_count": 8
        }
      ]
    },
    {
      "cell_type": "code",
      "source": [
        "arr.ndim        # 배열의 차원(dimension): 배열의 축(axis)의 개수."
      ],
      "metadata": {
        "colab": {
          "base_uri": "https://localhost:8080/"
        },
        "id": "mCu0l6bkehEa",
        "outputId": "310c2618-6bec-40b5-a556-da18fccf2a1a"
      },
      "execution_count": 9,
      "outputs": [
        {
          "output_type": "execute_result",
          "data": {
            "text/plain": [
              "2"
            ]
          },
          "metadata": {},
          "execution_count": 9
        }
      ]
    },
    {
      "cell_type": "code",
      "source": [
        "arr.size        # 배열의 크기: 배열의 전체 원소 개수"
      ],
      "metadata": {
        "colab": {
          "base_uri": "https://localhost:8080/"
        },
        "id": "D0E_yf7vfUiH",
        "outputId": "fc809027-9305-43df-ff46-c0597c3fb722"
      },
      "execution_count": 10,
      "outputs": [
        {
          "output_type": "execute_result",
          "data": {
            "text/plain": [
              "6"
            ]
          },
          "metadata": {},
          "execution_count": 10
        }
      ]
    },
    {
      "cell_type": "code",
      "source": [
        "arr = np.arange(10)     # [0, 10) 범위의 1씩 증가하는 정수들로 만들어진 1차원 배열\n",
        "print(arr)\n",
        "print('dtype :', arr.dtype)\n",
        "print('shape :', arr.shape)\n",
        "print('ndim :', arr.ndim)   # 괄호() = 튜플, (10, ) = 1차원 10개 원소를 가지는 배열\n",
        "print('size :', arr.size)"
      ],
      "metadata": {
        "colab": {
          "base_uri": "https://localhost:8080/"
        },
        "id": "UwYH3CBdf_LH",
        "outputId": "6c6e53c1-fdf4-46fa-9c8d-d0d5c19d950b"
      },
      "execution_count": 12,
      "outputs": [
        {
          "output_type": "stream",
          "name": "stdout",
          "text": [
            "[0 1 2 3 4 5 6 7 8 9]\n",
            "dtype : int64\n",
            "shape : (10,)\n",
            "ndim : 1\n",
            "size : 10\n"
          ]
        }
      ]
    },
    {
      "cell_type": "markdown",
      "source": [
        "# indexing\n",
        "\n",
        "* Python list:\n",
        "    * `list[i], list[i][j], list[i][j][k], ...`\n",
        "* numpy ndarray:\n",
        "    * `array[i], array[i][j], array[i][j][k], ...`\n",
        "    * `array[i], array[i, j], array[i, j, k], ...`"
      ],
      "metadata": {
        "id": "Ti7kO3ZRgw03"
      }
    },
    {
      "cell_type": "code",
      "source": [
        "# arange: 1차원 배열만 만들 수 있음\n",
        "# reshape: 모양을 다시 만듦.\n",
        "arr = np.arange(1, 13).reshape((3, 4))\n",
        "print(arr)"
      ],
      "metadata": {
        "colab": {
          "base_uri": "https://localhost:8080/"
        },
        "id": "qF9_P77VhlmC",
        "outputId": "6e4e37ea-0972-474f-f7d1-c1477c39f47b"
      },
      "execution_count": 13,
      "outputs": [
        {
          "output_type": "stream",
          "name": "stdout",
          "text": [
            "[[ 1  2  3  4]\n",
            " [ 5  6  7  8]\n",
            " [ 9 10 11 12]]\n"
          ]
        }
      ]
    },
    {
      "cell_type": "code",
      "source": [
        "arr[0]"
      ],
      "metadata": {
        "colab": {
          "base_uri": "https://localhost:8080/"
        },
        "id": "QoBFp-aCiOVI",
        "outputId": "6a6f0e8c-7376-4fc7-ed9a-3aa7273dc61f"
      },
      "execution_count": 14,
      "outputs": [
        {
          "output_type": "execute_result",
          "data": {
            "text/plain": [
              "array([1, 2, 3, 4])"
            ]
          },
          "metadata": {},
          "execution_count": 14
        }
      ]
    },
    {
      "cell_type": "code",
      "source": [
        "arr[0, 1]       # arr[0][1]과 동일."
      ],
      "metadata": {
        "colab": {
          "base_uri": "https://localhost:8080/"
        },
        "id": "8KVYFTK9iPIg",
        "outputId": "f0c4da1b-1251-4d4e-9ee0-f2a506817074"
      },
      "execution_count": 15,
      "outputs": [
        {
          "output_type": "execute_result",
          "data": {
            "text/plain": [
              "2"
            ]
          },
          "metadata": {},
          "execution_count": 15
        }
      ]
    },
    {
      "cell_type": "markdown",
      "source": [
        "# slicing"
      ],
      "metadata": {
        "id": "KIb6G5n_ia7-"
      }
    },
    {
      "cell_type": "markdown",
      "source": [
        "## 1차원 배열 slicing"
      ],
      "metadata": {
        "id": "NqrovH-biflP"
      }
    },
    {
      "cell_type": "code",
      "source": [
        "np.random.seed(1)\n",
        "arr = np.random.randint(100, size = 10)     # [0, 100) 범위의 정수 난수 10개를 갖는 1차원 배열\n",
        "print(arr)"
      ],
      "metadata": {
        "colab": {
          "base_uri": "https://localhost:8080/"
        },
        "id": "5E2qzIuGiUOu",
        "outputId": "a7b464a0-324f-433c-90b5-1a338ca25d2d"
      },
      "execution_count": 16,
      "outputs": [
        {
          "output_type": "stream",
          "name": "stdout",
          "text": [
            "[37 12 72  9 75  5 79 64 16  1]\n"
          ]
        }
      ]
    },
    {
      "cell_type": "code",
      "source": [
        "arr[2:6]"
      ],
      "metadata": {
        "colab": {
          "base_uri": "https://localhost:8080/"
        },
        "id": "8KO8CojOjDi4",
        "outputId": "4f351726-5c28-44bb-9b22-c36ea8541ccc"
      },
      "execution_count": 17,
      "outputs": [
        {
          "output_type": "execute_result",
          "data": {
            "text/plain": [
              "array([72,  9, 75,  5])"
            ]
          },
          "metadata": {},
          "execution_count": 17
        }
      ]
    },
    {
      "cell_type": "code",
      "source": [
        "arr[:3]     # arr[0:3]과 동일"
      ],
      "metadata": {
        "colab": {
          "base_uri": "https://localhost:8080/"
        },
        "id": "nzrvVwX6jTof",
        "outputId": "9a0077be-45b0-4687-e23a-8fcdad866e8f"
      },
      "execution_count": 18,
      "outputs": [
        {
          "output_type": "execute_result",
          "data": {
            "text/plain": [
              "array([37, 12, 72])"
            ]
          },
          "metadata": {},
          "execution_count": 18
        }
      ]
    },
    {
      "cell_type": "code",
      "source": [
        "# 음수 인덱스를 쓸 땐, 끝나는 인덱스를 생략할 순 있지만\n",
        "# 마지막 인덱스까지 쓰고 싶을 경우 끝나는 인덱스를 명시할 수 없다.\n",
        "arr[-3:]    # arr[7:]"
      ],
      "metadata": {
        "colab": {
          "base_uri": "https://localhost:8080/"
        },
        "id": "x2FymNEvjXhR",
        "outputId": "1580c9b4-d947-4556-ebf9-fdf04625ece3"
      },
      "execution_count": 19,
      "outputs": [
        {
          "output_type": "execute_result",
          "data": {
            "text/plain": [
              "array([64, 16,  1])"
            ]
          },
          "metadata": {},
          "execution_count": 19
        }
      ]
    },
    {
      "cell_type": "code",
      "source": [
        "arr[7:]     # arr[7:10]"
      ],
      "metadata": {
        "colab": {
          "base_uri": "https://localhost:8080/"
        },
        "id": "bq9s_pXfjlto",
        "outputId": "8642706c-b6e1-488d-affc-e9d726c4562f"
      },
      "execution_count": 20,
      "outputs": [
        {
          "output_type": "execute_result",
          "data": {
            "text/plain": [
              "array([64, 16,  1])"
            ]
          },
          "metadata": {},
          "execution_count": 20
        }
      ]
    },
    {
      "cell_type": "markdown",
      "source": [
        "## 2차원 배열 slicing"
      ],
      "metadata": {
        "id": "O_1hK3aMkDrw"
      }
    },
    {
      "cell_type": "code",
      "source": [
        "np.random.seed(10)\n",
        "arr = np.random.randint(100, size = (4, 5))\n",
        "print(arr)"
      ],
      "metadata": {
        "colab": {
          "base_uri": "https://localhost:8080/"
        },
        "id": "0BJdqjbukF4I",
        "outputId": "06fea5a4-ce12-4536-b26a-053c12867786"
      },
      "execution_count": 21,
      "outputs": [
        {
          "output_type": "stream",
          "name": "stdout",
          "text": [
            "[[ 9 15 64 28 89]\n",
            " [93 29  8 73  0]\n",
            " [40 36 16 11 54]\n",
            " [88 62 33 72 78]]\n"
          ]
        }
      ]
    },
    {
      "cell_type": "code",
      "source": [
        "# 첫 2개의 row를 선택. 컬럼의 모든 원소 선택.\n",
        "# :2 => 0부터 1까지\n",
        "# :  => 전체 선택\n",
        "arr[:2, :]"
      ],
      "metadata": {
        "colab": {
          "base_uri": "https://localhost:8080/"
        },
        "id": "258GgxHfk2xx",
        "outputId": "89046b0c-1ba6-4382-ad6a-2c8a4b6a103f"
      },
      "execution_count": 26,
      "outputs": [
        {
          "output_type": "execute_result",
          "data": {
            "text/plain": [
              "array([[ 9, 15, 64, 28, 89],\n",
              "       [93, 29,  8, 73,  0]])"
            ]
          },
          "metadata": {},
          "execution_count": 26
        }
      ]
    },
    {
      "cell_type": "code",
      "source": [
        "arr[:2]"
      ],
      "metadata": {
        "colab": {
          "base_uri": "https://localhost:8080/"
        },
        "id": "IH2BaJX1lO-B",
        "outputId": "353c88eb-11c7-45fe-8f20-ab2487773da2"
      },
      "execution_count": 27,
      "outputs": [
        {
          "output_type": "execute_result",
          "data": {
            "text/plain": [
              "array([[ 9, 15, 64, 28, 89],\n",
              "       [93, 29,  8, 73,  0]])"
            ]
          },
          "metadata": {},
          "execution_count": 27
        }
      ]
    },
    {
      "cell_type": "code",
      "source": [
        "# 첫 2개의 row에서 첫 3개의 column 원소들\n",
        "arr[:2, :3]"
      ],
      "metadata": {
        "colab": {
          "base_uri": "https://localhost:8080/"
        },
        "id": "D1jBR5kslsUY",
        "outputId": "53ce9cce-e4a9-4b1e-ea0f-e576b152f0b2"
      },
      "execution_count": 28,
      "outputs": [
        {
          "output_type": "execute_result",
          "data": {
            "text/plain": [
              "array([[ 9, 15, 64],\n",
              "       [93, 29,  8]])"
            ]
          },
          "metadata": {},
          "execution_count": 28
        }
      ]
    },
    {
      "cell_type": "code",
      "source": [
        "arr[2:, 3:]"
      ],
      "metadata": {
        "colab": {
          "base_uri": "https://localhost:8080/"
        },
        "id": "M9LDFgsQmIs6",
        "outputId": "3fef795b-b081-4744-f1d1-9451cec39a15"
      },
      "execution_count": 29,
      "outputs": [
        {
          "output_type": "execute_result",
          "data": {
            "text/plain": [
              "array([[11, 54],\n",
              "       [72, 78]])"
            ]
          },
          "metadata": {},
          "execution_count": 29
        }
      ]
    },
    {
      "cell_type": "markdown",
      "source": [
        "# Shape 변경"
      ],
      "metadata": {
        "id": "_MOdr7JamWSC"
      }
    },
    {
      "cell_type": "markdown",
      "source": [
        "## `np.ndarray.reshape(shape)`\n",
        "\n",
        "배열의 모양을 변경한 새로운 배열을 리턴."
      ],
      "metadata": {
        "id": "4KCiIr0vqFPM"
      }
    },
    {
      "cell_type": "code",
      "source": [
        "arr_1d = np.arange(12)\n",
        "print(arr_1d)"
      ],
      "metadata": {
        "colab": {
          "base_uri": "https://localhost:8080/"
        },
        "id": "hF112hDmmLcI",
        "outputId": "5a5c7e0c-237a-41e5-e208-a0f1579341a7"
      },
      "execution_count": 30,
      "outputs": [
        {
          "output_type": "stream",
          "name": "stdout",
          "text": [
            "[ 0  1  2  3  4  5  6  7  8  9 10 11]\n"
          ]
        }
      ]
    },
    {
      "cell_type": "code",
      "source": [
        "# reshape은 return 값이 있기 때문에 저장한 변수가 필요.\n",
        "arr_2d = arr_1d.reshape((3, 4))\n",
        "print(arr_2d)"
      ],
      "metadata": {
        "colab": {
          "base_uri": "https://localhost:8080/"
        },
        "id": "FtZWcjOoqVnp",
        "outputId": "ec8195aa-25d0-49a0-cb24-6ec3a9c23be1"
      },
      "execution_count": 31,
      "outputs": [
        {
          "output_type": "stream",
          "name": "stdout",
          "text": [
            "[[ 0  1  2  3]\n",
            " [ 4  5  6  7]\n",
            " [ 8  9 10 11]]\n"
          ]
        }
      ]
    },
    {
      "cell_type": "code",
      "source": [
        "print(arr_1d)"
      ],
      "metadata": {
        "colab": {
          "base_uri": "https://localhost:8080/"
        },
        "id": "QFFngxeOq0xX",
        "outputId": "8fd9061d-ed4c-4829-f37f-3bdc5124540f"
      },
      "execution_count": 32,
      "outputs": [
        {
          "output_type": "stream",
          "name": "stdout",
          "text": [
            "[ 0  1  2  3  4  5  6  7  8  9 10 11]\n"
          ]
        }
      ]
    },
    {
      "cell_type": "code",
      "source": [
        "# reshape을 할 때 자동으로 계산될 수 있는 차원의 값은 -1로 설정할 수 있음.\n",
        "# row의 개수가 정해지면 column의 개수가 저절로 정해지니 -1로 설정할 수 있음.\n",
        "arr_2d = arr_1d.reshape((2, -1))    # (2, 6)\n",
        "print(arr_2d)"
      ],
      "metadata": {
        "colab": {
          "base_uri": "https://localhost:8080/"
        },
        "id": "ZyOKN_RXrAgX",
        "outputId": "08dc3dad-762d-4220-98c0-23816d988764"
      },
      "execution_count": 33,
      "outputs": [
        {
          "output_type": "stream",
          "name": "stdout",
          "text": [
            "[[ 0  1  2  3  4  5]\n",
            " [ 6  7  8  9 10 11]]\n"
          ]
        }
      ]
    },
    {
      "cell_type": "code",
      "source": [
        "# row의 개수에 -1을 사용할 수도 있음.\n",
        "arr_2d = arr_1d.reshape((-1, 3))    # (4, 3)\n",
        "print(arr_2d)"
      ],
      "metadata": {
        "colab": {
          "base_uri": "https://localhost:8080/"
        },
        "id": "Bl9vwD23rbGU",
        "outputId": "b7018f3a-c6d8-4009-98fd-bf0f6baa763b"
      },
      "execution_count": 34,
      "outputs": [
        {
          "output_type": "stream",
          "name": "stdout",
          "text": [
            "[[ 0  1  2]\n",
            " [ 3  4  5]\n",
            " [ 6  7  8]\n",
            " [ 9 10 11]]\n"
          ]
        }
      ]
    },
    {
      "cell_type": "markdown",
      "source": [
        "## `np.ndarray.ravel()`\n",
        "\n",
        "1차원으로 변환된 배열의 **view**를 리턴. 새로운 배열이 리턴되는 것이 아님."
      ],
      "metadata": {
        "id": "PH8TDOq3rwGN"
      }
    },
    {
      "cell_type": "code",
      "source": [
        "print(arr_2d)   # (4, 3) shape의 2차원 배열"
      ],
      "metadata": {
        "colab": {
          "base_uri": "https://localhost:8080/"
        },
        "id": "4vxgvH7DsOVP",
        "outputId": "4c8db5c2-7a9e-43f2-90c2-b54344d4eadd"
      },
      "execution_count": 35,
      "outputs": [
        {
          "output_type": "stream",
          "name": "stdout",
          "text": [
            "[[ 0  1  2]\n",
            " [ 3  4  5]\n",
            " [ 6  7  8]\n",
            " [ 9 10 11]]\n"
          ]
        }
      ]
    },
    {
      "cell_type": "code",
      "source": [
        "raveled = arr_2d.ravel()\n",
        "print(raveled)"
      ],
      "metadata": {
        "colab": {
          "base_uri": "https://localhost:8080/"
        },
        "id": "_rkdRfSEsXiO",
        "outputId": "25681a8d-bf39-488c-d48e-b29d43276461"
      },
      "execution_count": 36,
      "outputs": [
        {
          "output_type": "stream",
          "name": "stdout",
          "text": [
            "[ 0  1  2  3  4  5  6  7  8  9 10 11]\n"
          ]
        }
      ]
    },
    {
      "cell_type": "code",
      "source": [
        "raveled[0] = 100        # 모양이 변경된 1차원 배열의 원소 값을 변경\n",
        "print(raveled)"
      ],
      "metadata": {
        "colab": {
          "base_uri": "https://localhost:8080/"
        },
        "id": "j2EVZlyjssFR",
        "outputId": "b47e7c85-fdcf-42f1-ebe3-25c5288d731e"
      },
      "execution_count": 38,
      "outputs": [
        {
          "output_type": "stream",
          "name": "stdout",
          "text": [
            "[100   1   2   3   4   5   6   7   8   9  10  11]\n"
          ]
        }
      ]
    },
    {
      "cell_type": "code",
      "source": [
        "print(arr_2d)           # ravel() 결과 배열에 값을 변경하면 원본 2차원 배열의 원소도 변경"
      ],
      "metadata": {
        "colab": {
          "base_uri": "https://localhost:8080/"
        },
        "id": "V_q2W7o6s4ug",
        "outputId": "fd35a8aa-b7f0-4ae9-e1ed-362051c7d627"
      },
      "execution_count": 39,
      "outputs": [
        {
          "output_type": "stream",
          "name": "stdout",
          "text": [
            "[[100   1   2]\n",
            " [  3   4   5]\n",
            " [  6   7   8]\n",
            " [  9  10  11]]\n"
          ]
        }
      ]
    },
    {
      "cell_type": "markdown",
      "source": [
        "## `np.ndarray.flatten()`\n",
        "\n",
        "1차원으로 변환된 배열의 **복사본**을 리턴. 원본 배열과는 별개의 **새로운 배열**을 리턴."
      ],
      "metadata": {
        "id": "wXhAa8kItg_d"
      }
    },
    {
      "cell_type": "code",
      "source": [
        "print(arr_2d)"
      ],
      "metadata": {
        "colab": {
          "base_uri": "https://localhost:8080/"
        },
        "id": "YHBGZnw-tzuN",
        "outputId": "2f3597ff-6803-4240-fdac-342041541e9b"
      },
      "execution_count": 40,
      "outputs": [
        {
          "output_type": "stream",
          "name": "stdout",
          "text": [
            "[[100   1   2]\n",
            " [  3   4   5]\n",
            " [  6   7   8]\n",
            " [  9  10  11]]\n"
          ]
        }
      ]
    },
    {
      "cell_type": "code",
      "source": [
        "flattened = arr_2d.flatten()\n",
        "print(flattened)"
      ],
      "metadata": {
        "colab": {
          "base_uri": "https://localhost:8080/"
        },
        "id": "GjksMcLLt2HK",
        "outputId": "cec2db32-4c16-4dd9-c591-f9e4f6962ea6"
      },
      "execution_count": 41,
      "outputs": [
        {
          "output_type": "stream",
          "name": "stdout",
          "text": [
            "[100   1   2   3   4   5   6   7   8   9  10  11]\n"
          ]
        }
      ]
    },
    {
      "cell_type": "code",
      "source": [
        "flattened[0] = 0\n",
        "print(flattened)"
      ],
      "metadata": {
        "colab": {
          "base_uri": "https://localhost:8080/"
        },
        "id": "SB7zI43EuHxP",
        "outputId": "a3d1c817-d060-4a43-cb80-da6b11cccb6c"
      },
      "execution_count": 44,
      "outputs": [
        {
          "output_type": "stream",
          "name": "stdout",
          "text": [
            "[ 0  1  2  3  4  5  6  7  8  9 10 11]\n"
          ]
        }
      ]
    },
    {
      "cell_type": "code",
      "source": [
        "print(arr_2d)       # flatten() 결과에서 값을 변경한 것은, 원본 2차원 배열에 아무 영향을 주지 않음."
      ],
      "metadata": {
        "colab": {
          "base_uri": "https://localhost:8080/"
        },
        "id": "CVVsbVtkuKqV",
        "outputId": "3f2ed0f3-9a7f-4f10-ed84-919d8743f30b"
      },
      "execution_count": 43,
      "outputs": [
        {
          "output_type": "stream",
          "name": "stdout",
          "text": [
            "[[100   1   2]\n",
            " [  3   4   5]\n",
            " [  6   7   8]\n",
            " [  9  10  11]]\n"
          ]
        }
      ]
    },
    {
      "cell_type": "markdown",
      "source": [
        "## `np.newaxis` 속성을 사용한 차원 늘리기"
      ],
      "metadata": {
        "id": "WAFcHlgUvEkl"
      }
    },
    {
      "cell_type": "code",
      "source": [
        "arr = np.arange(5)  # [0, 5) 범위의 정수 5개를 갖는 (5,) shape의 1차원 배열\n",
        "print(arr)\n",
        "print(arr.shape)\n",
        "print(arr.ndim)"
      ],
      "metadata": {
        "colab": {
          "base_uri": "https://localhost:8080/"
        },
        "id": "diAwDCJ8uiBl",
        "outputId": "8e3c4a41-7052-48a6-d6ce-4d338bc63f0e"
      },
      "execution_count": 46,
      "outputs": [
        {
          "output_type": "stream",
          "name": "stdout",
          "text": [
            "[0 1 2 3 4]\n",
            "(5,)\n",
            "1\n"
          ]
        }
      ]
    },
    {
      "cell_type": "code",
      "source": [
        "# 배열 arr을 (1, 5) shape의 2차원 배열로 변환\n",
        "arr_2d = arr.reshape((1, -1))   # (1, 5)\n",
        "print(arr_2d)"
      ],
      "metadata": {
        "colab": {
          "base_uri": "https://localhost:8080/"
        },
        "id": "tnExW3GLvpUs",
        "outputId": "b9102d56-97bf-460e-d7df-0a1bae8a2f84"
      },
      "execution_count": 47,
      "outputs": [
        {
          "output_type": "stream",
          "name": "stdout",
          "text": [
            "[[0 1 2 3 4]]\n"
          ]
        }
      ]
    },
    {
      "cell_type": "code",
      "source": [
        "result = arr[np.newaxis, :]\n",
        "print(result)"
      ],
      "metadata": {
        "colab": {
          "base_uri": "https://localhost:8080/"
        },
        "id": "kifhHJwqv771",
        "outputId": "4e126ede-c2c1-46ab-8c8c-b720d805f3bd"
      },
      "execution_count": 48,
      "outputs": [
        {
          "output_type": "stream",
          "name": "stdout",
          "text": [
            "[[0 1 2 3 4]]\n"
          ]
        }
      ]
    },
    {
      "cell_type": "code",
      "source": [
        "# 배열 arr을 (5, 1) shape의 2차원 배열로 변환\n",
        "arr_2d = arr.reshape((5, -1))   # (-1, 1), (5, 1)\n",
        "print(arr_2d)"
      ],
      "metadata": {
        "colab": {
          "base_uri": "https://localhost:8080/"
        },
        "id": "sh2PSoVfwUxi",
        "outputId": "98a7a5e5-f747-4fbc-ab6c-eaf99ba1d369"
      },
      "execution_count": 49,
      "outputs": [
        {
          "output_type": "stream",
          "name": "stdout",
          "text": [
            "[[0]\n",
            " [1]\n",
            " [2]\n",
            " [3]\n",
            " [4]]\n"
          ]
        }
      ]
    },
    {
      "cell_type": "code",
      "source": [
        "result = arr[:, np.newaxis]\n",
        "print(result)"
      ],
      "metadata": {
        "colab": {
          "base_uri": "https://localhost:8080/"
        },
        "id": "wuaLK2vXxDOQ",
        "outputId": "98547041-3144-4f1f-82d8-808dee2be339"
      },
      "execution_count": 50,
      "outputs": [
        {
          "output_type": "stream",
          "name": "stdout",
          "text": [
            "[[0]\n",
            " [1]\n",
            " [2]\n",
            " [3]\n",
            " [4]]\n"
          ]
        }
      ]
    },
    {
      "cell_type": "markdown",
      "source": [
        "# 배열 합치기(concatenate)"
      ],
      "metadata": {
        "id": "nf9d_tvkxWsF"
      }
    },
    {
      "cell_type": "markdown",
      "source": [
        "## `np.concatenate([array, array2, ...], axis = 0)`\n",
        "\n",
        "특정 축(axis) 방향으로 이어 붙이기."
      ],
      "metadata": {
        "id": "5f63RTLWxcOt"
      }
    },
    {
      "cell_type": "code",
      "source": [
        "arr1 = np.arange(6).reshape((2, 3))\n",
        "print(arr1)"
      ],
      "metadata": {
        "colab": {
          "base_uri": "https://localhost:8080/"
        },
        "id": "Z-h0nOT6xbdA",
        "outputId": "600fe317-0981-4072-8fcc-dda24aa5ae1e"
      },
      "execution_count": 51,
      "outputs": [
        {
          "output_type": "stream",
          "name": "stdout",
          "text": [
            "[[0 1 2]\n",
            " [3 4 5]]\n"
          ]
        }
      ]
    },
    {
      "cell_type": "code",
      "source": [
        "arr2 = np.array([[10, 20, 30]])     # (1, 3)\n",
        "print(arr2)"
      ],
      "metadata": {
        "colab": {
          "base_uri": "https://localhost:8080/"
        },
        "id": "2AXAR9Bix5YW",
        "outputId": "a599127b-cef3-4f53-8284-3aa53afacf2d"
      },
      "execution_count": 52,
      "outputs": [
        {
          "output_type": "stream",
          "name": "stdout",
          "text": [
            "[[10 20 30]]\n"
          ]
        }
      ]
    },
    {
      "cell_type": "code",
      "source": [
        "result = np.concatenate([arr1, arr2])   # axis 기본값 0.\n",
        "print(result)"
      ],
      "metadata": {
        "colab": {
          "base_uri": "https://localhost:8080/"
        },
        "id": "-8NRwxCwyJ-m",
        "outputId": "7255bf8a-9625-408c-e983-c52c6f72cff9"
      },
      "execution_count": 54,
      "outputs": [
        {
          "output_type": "stream",
          "name": "stdout",
          "text": [
            "[[ 0  1  2]\n",
            " [ 3  4  5]\n",
            " [10 20 30]]\n"
          ]
        }
      ]
    },
    {
      "cell_type": "code",
      "source": [
        "arr3 = np.array([[100], [200]])\n",
        "print(arr3)"
      ],
      "metadata": {
        "colab": {
          "base_uri": "https://localhost:8080/"
        },
        "id": "1EXFJTgCyuke",
        "outputId": "30505705-ccd0-49a0-c700-4a985fc0ac5b"
      },
      "execution_count": 55,
      "outputs": [
        {
          "output_type": "stream",
          "name": "stdout",
          "text": [
            "[[100]\n",
            " [200]]\n"
          ]
        }
      ]
    },
    {
      "cell_type": "code",
      "source": [
        "result = np.concatenate([arr1, arr3], axis = 1) # (1, 2) shape의 2차원 배열\n",
        "print(result)"
      ],
      "metadata": {
        "colab": {
          "base_uri": "https://localhost:8080/"
        },
        "id": "Y3UOUG5Ey3MO",
        "outputId": "656e3f06-09aa-4b3d-a3fb-0c3314238a93"
      },
      "execution_count": 56,
      "outputs": [
        {
          "output_type": "stream",
          "name": "stdout",
          "text": [
            "[[  0   1   2 100]\n",
            " [  3   4   5 200]]\n"
          ]
        }
      ]
    },
    {
      "cell_type": "markdown",
      "source": [
        "## `np.r_[array1, array2]`, `np.c_[array1, array2]`\n",
        "\n",
        "* 2차원 배열에서만 사용 가능하다.\n",
        "* `np.r_`: 행(row) 이어붙이기. concatenate(axis = 0)\n",
        "* `np.c_`: 열(column) 이어붙이기. concatenate(axis = 1)"
      ],
      "metadata": {
        "id": "7WYiePFhzKzl"
      }
    },
    {
      "cell_type": "code",
      "source": [
        "np.r_[arr1, arr2]"
      ],
      "metadata": {
        "colab": {
          "base_uri": "https://localhost:8080/"
        },
        "id": "b_6MxcVEznZG",
        "outputId": "089e2c86-7f54-4f37-cd19-1ed81f06c92a"
      },
      "execution_count": 57,
      "outputs": [
        {
          "output_type": "execute_result",
          "data": {
            "text/plain": [
              "array([[ 0,  1,  2],\n",
              "       [ 3,  4,  5],\n",
              "       [10, 20, 30]])"
            ]
          },
          "metadata": {},
          "execution_count": 57
        }
      ]
    },
    {
      "cell_type": "code",
      "source": [
        "np.c_[arr1, arr3]"
      ],
      "metadata": {
        "colab": {
          "base_uri": "https://localhost:8080/"
        },
        "id": "DvfD9shSzvtm",
        "outputId": "45893dbe-9dc0-4c37-c928-0a80fef6fafe"
      },
      "execution_count": 58,
      "outputs": [
        {
          "output_type": "execute_result",
          "data": {
            "text/plain": [
              "array([[  0,   1,   2, 100],\n",
              "       [  3,   4,   5, 200]])"
            ]
          },
          "metadata": {},
          "execution_count": 58
        }
      ]
    },
    {
      "cell_type": "markdown",
      "source": [
        "# Broadcasting(브로드캐스팅)\n",
        "\n",
        "* `np.ndarray`의 산술 연산(+, -, *, /, ...)은 같은 위치(인덱스)에 있는 원소들끼리(element-wise) 연산을 수행함.\n",
        "    * 같은 모양의 배열들끼리 산술 연산이 가능.\n",
        "* broadcast: 서로 다른 모양의 배열들끼리 산술 연산이 가능한 경우."
      ],
      "metadata": {
        "id": "N4Zvl8b23A1_"
      }
    },
    {
      "cell_type": "markdown",
      "source": [
        "## ndarray와 scalar의 연산\n",
        "\n",
        "* scalar: 숫자 한 개.\n",
        "* ndarray: 숫자 여러 개."
      ],
      "metadata": {
        "id": "EYa8G6hN4EX_"
      }
    },
    {
      "cell_type": "code",
      "source": [
        "arr1 = np.arange(1, 4)\n",
        "print(arr1)"
      ],
      "metadata": {
        "colab": {
          "base_uri": "https://localhost:8080/"
        },
        "id": "F0qhUV5tzzj9",
        "outputId": "489a2d0e-0e79-4077-c92a-abfcc1d4b072"
      },
      "execution_count": 59,
      "outputs": [
        {
          "output_type": "stream",
          "name": "stdout",
          "text": [
            "[1 2 3]\n"
          ]
        }
      ]
    },
    {
      "cell_type": "code",
      "source": [
        "# 전체에 10이 더해진 값이 저장됨.\n",
        "# broadcast: 왼쪽에 있는 값과 오른쪽의 있는 값의 모양을 맞춰줌.\n",
        "arr1 + 10"
      ],
      "metadata": {
        "colab": {
          "base_uri": "https://localhost:8080/"
        },
        "id": "-x6RQO8M4WSD",
        "outputId": "e160c1a8-4cec-4b9f-c6ff-f1155690e35e"
      },
      "execution_count": 60,
      "outputs": [
        {
          "output_type": "execute_result",
          "data": {
            "text/plain": [
              "array([11, 12, 13])"
            ]
          },
          "metadata": {},
          "execution_count": 60
        }
      ]
    },
    {
      "cell_type": "code",
      "source": [
        "arr2 = np.array([\n",
        "    [1],\n",
        "    [2],\n",
        "    [3]\n",
        "])  # (3, 1) shape\n",
        "print(arr2)"
      ],
      "metadata": {
        "colab": {
          "base_uri": "https://localhost:8080/"
        },
        "id": "XvnWeDHe4Y__",
        "outputId": "6062ec25-9c6a-4e9f-ec5f-1846ecbbaa06"
      },
      "execution_count": 61,
      "outputs": [
        {
          "output_type": "stream",
          "name": "stdout",
          "text": [
            "[[1]\n",
            " [2]\n",
            " [3]]\n"
          ]
        }
      ]
    },
    {
      "cell_type": "code",
      "source": [
        "arr2 + 10"
      ],
      "metadata": {
        "colab": {
          "base_uri": "https://localhost:8080/"
        },
        "id": "2t5SiYz-5nL1",
        "outputId": "fab2fa61-e2c3-4823-d0d5-104780a3a70d"
      },
      "execution_count": 62,
      "outputs": [
        {
          "output_type": "execute_result",
          "data": {
            "text/plain": [
              "array([[11],\n",
              "       [12],\n",
              "       [13]])"
            ]
          },
          "metadata": {},
          "execution_count": 62
        }
      ]
    },
    {
      "cell_type": "markdown",
      "source": [
        "## 2차원 배열과 1차원 배열에서 broadcast"
      ],
      "metadata": {
        "id": "slIUs-vI6J4n"
      }
    },
    {
      "cell_type": "code",
      "source": [
        "arr1 = np.arange(6).reshape((2, -1))    # (2, 3) shape의 2차원 배열\n",
        "print(arr1)"
      ],
      "metadata": {
        "colab": {
          "base_uri": "https://localhost:8080/"
        },
        "id": "zJBsf3bD6OLo",
        "outputId": "65fa9514-b7d3-415b-a181-c59c796f191f"
      },
      "execution_count": 63,
      "outputs": [
        {
          "output_type": "stream",
          "name": "stdout",
          "text": [
            "[[0 1 2]\n",
            " [3 4 5]]\n"
          ]
        }
      ]
    },
    {
      "cell_type": "code",
      "source": [
        "arr2 = np.array([10, 20, 30])   # (3, ) shape의 1차원 배열\n",
        "print(arr2)"
      ],
      "metadata": {
        "colab": {
          "base_uri": "https://localhost:8080/"
        },
        "id": "s3gwgXf46Zmq",
        "outputId": "6858cb48-54f3-451c-9461-66c295d6ed5d"
      },
      "execution_count": 64,
      "outputs": [
        {
          "output_type": "stream",
          "name": "stdout",
          "text": [
            "[10 20 30]\n"
          ]
        }
      ]
    },
    {
      "cell_type": "code",
      "source": [
        "# 1차원 배열을 2차원 배열에 맞춰 복사한 후,\n",
        "# 각 원소마다 더해줌.\n",
        "arr1 + arr2"
      ],
      "metadata": {
        "colab": {
          "base_uri": "https://localhost:8080/"
        },
        "id": "tfcNZutw6q-9",
        "outputId": "a517618a-9230-425b-bf50-d8e94ab0d514"
      },
      "execution_count": 65,
      "outputs": [
        {
          "output_type": "execute_result",
          "data": {
            "text/plain": [
              "array([[10, 21, 32],\n",
              "       [13, 24, 35]])"
            ]
          },
          "metadata": {},
          "execution_count": 65
        }
      ]
    },
    {
      "cell_type": "code",
      "source": [
        "arr3 = np.array([10, 20])   # (2, ) shape의 1차원 배열\n",
        "print(arr3)"
      ],
      "metadata": {
        "colab": {
          "base_uri": "https://localhost:8080/"
        },
        "id": "JlhCpVqF7gH_",
        "outputId": "9f9f71d0-e78c-43b7-ad30-9f64b6568487"
      },
      "execution_count": 71,
      "outputs": [
        {
          "output_type": "stream",
          "name": "stdout",
          "text": [
            "[10 20]\n"
          ]
        }
      ]
    },
    {
      "cell_type": "code",
      "source": [
        "# arr1 + arr3\n",
        "# 에러.\n",
        "# 낮은 차원에 있는 배열을 높은 차원에 있는 배열에 맞게 늘려줘야 하는데,\n",
        "# 복사를 할 때 모양을 맞출 수 없으면 에러가 발생한다.\n",
        "\n",
        "# > (2, 3) shape과 (2, ) shape의 배열은 broadcast할 수 없음."
      ],
      "metadata": {
        "id": "-OwMgMcb7gB3"
      },
      "execution_count": 68,
      "outputs": []
    },
    {
      "cell_type": "code",
      "source": [
        "# arr3 = np.array([\n",
        "#     [10],\n",
        "#     [20]\n",
        "# ])\n",
        "\n",
        "arr3 = arr3.reshape((-1, 1))        #(2, 1) shape\n",
        "print(arr3)"
      ],
      "metadata": {
        "colab": {
          "base_uri": "https://localhost:8080/"
        },
        "id": "gudbh8a28hoY",
        "outputId": "d6e0e74d-45b7-48e7-dd10-6fd0f61d9f6b"
      },
      "execution_count": 72,
      "outputs": [
        {
          "output_type": "stream",
          "name": "stdout",
          "text": [
            "[[10]\n",
            " [20]]\n"
          ]
        }
      ]
    },
    {
      "cell_type": "code",
      "source": [
        "arr1 + arr3"
      ],
      "metadata": {
        "colab": {
          "base_uri": "https://localhost:8080/"
        },
        "id": "qNlSrtQZ8n_v",
        "outputId": "1b8f5a51-ffb9-4aa9-fe0c-54115041c956"
      },
      "execution_count": 73,
      "outputs": [
        {
          "output_type": "execute_result",
          "data": {
            "text/plain": [
              "array([[10, 11, 12],\n",
              "       [23, 24, 25]])"
            ]
          },
          "metadata": {},
          "execution_count": 73
        }
      ]
    },
    {
      "cell_type": "markdown",
      "source": [
        "## broadcast 연습"
      ],
      "metadata": {
        "id": "q60ntLs09pHI"
      }
    },
    {
      "cell_type": "markdown",
      "source": [
        "표준화(standardizatioin): 배열의 원소들을 평균이 0이 되고 표준편차가 1이 되도록 변수들의 스케일을 변환하는 것.\n",
        "\n",
        "$$\n",
        "X_{scaled} = \\frac{X- \\mu}{\\sigma}\n",
        "$$\n",
        "\n",
        "* $ \\mu $: 평균\n",
        "* $ \\sigma $: 표준편차"
      ],
      "metadata": {
        "id": "T2gIPiwq9scI"
      }
    },
    {
      "cell_type": "code",
      "source": [
        "x = np.arange(1, 6)\n",
        "print(x)"
      ],
      "metadata": {
        "colab": {
          "base_uri": "https://localhost:8080/"
        },
        "id": "WpftnemB_Az4",
        "outputId": "9fb2c213-47a4-49dc-c278-0544db700de6"
      },
      "execution_count": 74,
      "outputs": [
        {
          "output_type": "stream",
          "name": "stdout",
          "text": [
            "[1 2 3 4 5]\n"
          ]
        }
      ]
    },
    {
      "cell_type": "code",
      "source": [
        "mu = np.mean(x) # 평균\n",
        "print(mu)"
      ],
      "metadata": {
        "colab": {
          "base_uri": "https://localhost:8080/"
        },
        "id": "n5RHGHx6_E6Y",
        "outputId": "db5ea58c-1184-4c17-9b0b-4f8360441e92"
      },
      "execution_count": 76,
      "outputs": [
        {
          "output_type": "stream",
          "name": "stdout",
          "text": [
            "3.0\n"
          ]
        }
      ]
    },
    {
      "cell_type": "code",
      "source": [
        "sigma = np.std(x)   # 표준편차\n",
        "print(sigma)"
      ],
      "metadata": {
        "colab": {
          "base_uri": "https://localhost:8080/"
        },
        "id": "9f-xcuUw_Ra4",
        "outputId": "05b1474e-2e04-417a-9a17-184e09cd89cb"
      },
      "execution_count": 78,
      "outputs": [
        {
          "output_type": "stream",
          "name": "stdout",
          "text": [
            "1.4142135623730951\n"
          ]
        }
      ]
    },
    {
      "cell_type": "code",
      "source": [
        "x_scaled = (x - mu) / sigma\n",
        "print(x_scaled)"
      ],
      "metadata": {
        "colab": {
          "base_uri": "https://localhost:8080/"
        },
        "id": "UaHXkQoA_0-J",
        "outputId": "92700179-4696-4a7a-d1d4-11fc2ef6c23a"
      },
      "execution_count": 79,
      "outputs": [
        {
          "output_type": "stream",
          "name": "stdout",
          "text": [
            "[-1.41421356 -0.70710678  0.          0.70710678  1.41421356]\n"
          ]
        }
      ]
    },
    {
      "cell_type": "code",
      "source": [
        "print(np.mean(x_scaled))\n",
        "print(np.std(x_scaled))"
      ],
      "metadata": {
        "colab": {
          "base_uri": "https://localhost:8080/"
        },
        "id": "VLEWHLOM_7oI",
        "outputId": "a2de8f7d-69de-42fc-ecd1-52e18c7cb508"
      },
      "execution_count": 81,
      "outputs": [
        {
          "output_type": "stream",
          "name": "stdout",
          "text": [
            "0.0\n",
            "0.9999999999999999\n"
          ]
        }
      ]
    },
    {
      "cell_type": "markdown",
      "source": [
        "정규화(normalization): min-max scaling. 배열의 원소들을 최솟이 0이 되도록, 최댓값이 1이 되도록 변환을 하는 것.\n",
        "\n",
        "$$\n",
        "X_{normalized} = \\frac{X - min(X)}{max(X) - min(X)}\n",
        "$$"
      ],
      "metadata": {
        "id": "ZspP2UTeSYy0"
      }
    },
    {
      "cell_type": "code",
      "source": [
        "print(x)"
      ],
      "metadata": {
        "colab": {
          "base_uri": "https://localhost:8080/"
        },
        "id": "43HS2DxfTH7f",
        "outputId": "5deb9c8a-1e5e-430c-fc85-7fd5b8f6d1a0"
      },
      "execution_count": 82,
      "outputs": [
        {
          "output_type": "stream",
          "name": "stdout",
          "text": [
            "[1 2 3 4 5]\n"
          ]
        }
      ]
    },
    {
      "cell_type": "code",
      "source": [
        "xmin = np.min(x)\n",
        "print(xmin)"
      ],
      "metadata": {
        "colab": {
          "base_uri": "https://localhost:8080/"
        },
        "id": "p-qGcwMATNAU",
        "outputId": "b1810b98-6c07-4703-aa57-7bd8bfa2e664"
      },
      "execution_count": 83,
      "outputs": [
        {
          "output_type": "stream",
          "name": "stdout",
          "text": [
            "1\n"
          ]
        }
      ]
    },
    {
      "cell_type": "code",
      "source": [
        "xmax = np.max(x)\n",
        "print(xmax)"
      ],
      "metadata": {
        "colab": {
          "base_uri": "https://localhost:8080/"
        },
        "id": "FonpouRxTVGZ",
        "outputId": "b4dbe9ed-4df4-41cf-db41-5f6a14eeb57c"
      },
      "execution_count": 84,
      "outputs": [
        {
          "output_type": "stream",
          "name": "stdout",
          "text": [
            "5\n"
          ]
        }
      ]
    },
    {
      "cell_type": "code",
      "source": [
        "x_normalized = (x - xmin) / (xmax - xmin)\n",
        "print(x_normalized)"
      ],
      "metadata": {
        "colab": {
          "base_uri": "https://localhost:8080/"
        },
        "id": "9tGTcN64TYog",
        "outputId": "969555d2-f8dd-4113-8683-a4df36b676a4"
      },
      "execution_count": 85,
      "outputs": [
        {
          "output_type": "stream",
          "name": "stdout",
          "text": [
            "[0.   0.25 0.5  0.75 1.  ]\n"
          ]
        }
      ]
    },
    {
      "cell_type": "markdown",
      "source": [
        "## 2차원 배열에서 표준화, 정규화"
      ],
      "metadata": {
        "id": "p702DIU1VXT0"
      }
    },
    {
      "cell_type": "code",
      "source": [
        "# 1차원: 소문자\n",
        "# 2차원: 대문자\n",
        "X = np.arange(1, 7).reshape((3, -1))    # (3, 2) shape의 2차원 배열\n",
        "print(X)"
      ],
      "metadata": {
        "colab": {
          "base_uri": "https://localhost:8080/"
        },
        "id": "VGTgirgmVcYO",
        "outputId": "f830d90c-ec39-4887-88e0-a9f627fdaf5c"
      },
      "execution_count": 86,
      "outputs": [
        {
          "output_type": "stream",
          "name": "stdout",
          "text": [
            "[[1 2]\n",
            " [3 4]\n",
            " [5 6]]\n"
          ]
        }
      ]
    },
    {
      "cell_type": "markdown",
      "source": [
        "axis = 0 축 방향으로 표준화"
      ],
      "metadata": {
        "id": "SxaKwzcpWRY1"
      }
    },
    {
      "cell_type": "code",
      "source": [
        "mu = np.mean(X, axis = 0)\n",
        "mu"
      ],
      "metadata": {
        "colab": {
          "base_uri": "https://localhost:8080/"
        },
        "id": "gsjgIK86WzfF",
        "outputId": "f672ab25-59ce-4e7d-a566-bafd5c5c4222"
      },
      "execution_count": 89,
      "outputs": [
        {
          "output_type": "execute_result",
          "data": {
            "text/plain": [
              "array([3., 4.])"
            ]
          },
          "metadata": {},
          "execution_count": 89
        }
      ]
    },
    {
      "cell_type": "code",
      "source": [
        "sigma = np.std(X, axis = 0)\n",
        "sigma"
      ],
      "metadata": {
        "colab": {
          "base_uri": "https://localhost:8080/"
        },
        "id": "WNOapmOGW0-9",
        "outputId": "f7b72080-1100-4863-9056-775e40eba96a"
      },
      "execution_count": 88,
      "outputs": [
        {
          "output_type": "execute_result",
          "data": {
            "text/plain": [
              "array([1.63299316, 1.63299316])"
            ]
          },
          "metadata": {},
          "execution_count": 88
        }
      ]
    },
    {
      "cell_type": "code",
      "source": [
        "X_scaled = (X - mu) / sigma\n",
        "print(X_scaled)"
      ],
      "metadata": {
        "colab": {
          "base_uri": "https://localhost:8080/"
        },
        "id": "y-gnSB8MW4Ml",
        "outputId": "b12139ea-8267-409c-e1ca-f784d3f16b03"
      },
      "execution_count": 90,
      "outputs": [
        {
          "output_type": "stream",
          "name": "stdout",
          "text": [
            "[[-1.22474487 -1.22474487]\n",
            " [ 0.          0.        ]\n",
            " [ 1.22474487  1.22474487]]\n"
          ]
        }
      ]
    },
    {
      "cell_type": "code",
      "source": [
        "print(np.mean(X_scaled, axis = 0))\n",
        "print(np.std(X_scaled, axis = 0))"
      ],
      "metadata": {
        "colab": {
          "base_uri": "https://localhost:8080/"
        },
        "id": "V2ooclHjW9z1",
        "outputId": "6530ef0e-62ad-478a-daea-71870737b9f1"
      },
      "execution_count": 91,
      "outputs": [
        {
          "output_type": "stream",
          "name": "stdout",
          "text": [
            "[0. 0.]\n",
            "[1. 1.]\n"
          ]
        }
      ]
    },
    {
      "cell_type": "markdown",
      "source": [
        "axis = 0 축 방향으로 정규화"
      ],
      "metadata": {
        "id": "nKy_aNXxYtU9"
      }
    },
    {
      "cell_type": "code",
      "source": [
        "xmax = np.max(X, axis = 0)\n",
        "xmax"
      ],
      "metadata": {
        "colab": {
          "base_uri": "https://localhost:8080/"
        },
        "id": "lJ-KNOZSYgo8",
        "outputId": "db5c503a-0838-4a64-8447-6df9307aed1c"
      },
      "execution_count": 92,
      "outputs": [
        {
          "output_type": "execute_result",
          "data": {
            "text/plain": [
              "array([5, 6])"
            ]
          },
          "metadata": {},
          "execution_count": 92
        }
      ]
    },
    {
      "cell_type": "code",
      "source": [
        "xmin = np.min(X, axis = 0)\n",
        "xmin"
      ],
      "metadata": {
        "colab": {
          "base_uri": "https://localhost:8080/"
        },
        "id": "gwdDBeCNYlxN",
        "outputId": "1d95e206-d9eb-4d4f-9ba4-9a11cf9daa09"
      },
      "execution_count": 93,
      "outputs": [
        {
          "output_type": "execute_result",
          "data": {
            "text/plain": [
              "array([1, 2])"
            ]
          },
          "metadata": {},
          "execution_count": 93
        }
      ]
    },
    {
      "cell_type": "code",
      "source": [
        "X_normalized = (X - xmin) / (xmax - xmin)\n",
        "print(X_normalized)"
      ],
      "metadata": {
        "colab": {
          "base_uri": "https://localhost:8080/"
        },
        "id": "j_pZc5WrYoOl",
        "outputId": "678c8737-cd48-4e3b-81e5-48067293cd00"
      },
      "execution_count": 94,
      "outputs": [
        {
          "output_type": "stream",
          "name": "stdout",
          "text": [
            "[[0.  0. ]\n",
            " [0.5 0.5]\n",
            " [1.  1. ]]\n"
          ]
        }
      ]
    }
  ]
}